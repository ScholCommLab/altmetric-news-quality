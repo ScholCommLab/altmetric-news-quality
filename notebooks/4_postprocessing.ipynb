{
 "cells": [
  {
   "cell_type": "code",
   "execution_count": 1,
   "metadata": {},
   "outputs": [],
   "source": [
    "from pathlib import Path\n",
    "\n",
    "import pandas as pd\n",
    "import matplotlib.pyplot as plt\n",
    "import seaborn as sns"
   ]
  },
  {
   "cell_type": "code",
   "execution_count": 19,
   "metadata": {},
   "outputs": [],
   "source": [
    "# data directory\n",
    "data_dir = Path(\"../data\")\n",
    "\n",
    "input_dir = data_dir / \"input\"\n",
    "raw_dir = data_dir / \"raw\"\n",
    "output_dir = data_dir / \"processed\"\n",
    "sample_dir = data_dir / \"samples\"\n",
    "\n",
    "rss_dir = raw_dir / \"rss\"\n",
    "twitter_dir = raw_dir / \"twitter\""
   ]
  },
  {
   "cell_type": "markdown",
   "metadata": {},
   "source": [
    "## Load articles"
   ]
  },
  {
   "cell_type": "code",
   "execution_count": 20,
   "metadata": {},
   "outputs": [],
   "source": [
    "articles = pd.read_csv(\n",
    "    output_dir / \"articles.csv\",\n",
    "    index_col=\"url_id\",\n",
    ")"
   ]
  },
  {
   "cell_type": "code",
   "execution_count": 21,
   "metadata": {},
   "outputs": [],
   "source": [
    "orig_counts = articles.groupby(\"source\").size()"
   ]
  },
  {
   "cell_type": "markdown",
   "metadata": {},
   "source": [
    "## Postprocessing of collected articles\n",
    "\n",
    "Articles are excluded if:\n",
    "\n",
    "- they were not successfully parsed by `newspaper`\n",
    "- they have been published before Mar 1 or after Apr 30 \n",
    "- they are in Spanish\n",
    "- they have been used in previous samples"
   ]
  },
  {
   "cell_type": "markdown",
   "metadata": {},
   "source": [
    "### Successful content parsing\n",
    "\n",
    "Remove articles that were not properly parsed by `newspaper`"
   ]
  },
  {
   "cell_type": "code",
   "execution_count": 22,
   "metadata": {},
   "outputs": [],
   "source": [
    "# set success to False for all articles with parse_errors\n",
    "articles.loc[(articles == \"parse_error\").any(axis=1), \"success\"] = False"
   ]
  },
  {
   "cell_type": "code",
   "execution_count": 23,
   "metadata": {},
   "outputs": [
    {
     "name": "stdout",
     "output_type": "stream",
     "text": [
      "Removing 39 that were not parsed successfully.\n",
      "Breakdown of reasons: {'404 Client Error': 27, '402 Client Error': 1, 'Timeout': 0, 'Wrong domain': 11, 'Parse error': 6}\n"
     ]
    },
    {
     "data": {
      "text/plain": [
       "newsmed    20\n",
       "ifls       14\n",
       "popsci      4\n",
       "wired       1\n",
       "Name: source, dtype: int64"
      ]
     },
     "execution_count": 23,
     "metadata": {},
     "output_type": "execute_result"
    }
   ],
   "source": [
    "df = articles[~articles.success]\n",
    "errors = {\n",
    "    \"404 Client Error\": df.error_msg.str.contains(\"404 Client Error\").sum(),\n",
    "    \"402 Client Error\": df.error_msg.str.contains(\"402 Client Error\").sum(),\n",
    "    \"Timeout\": df.error_msg.str.contains(\"Read timed out\").sum(),\n",
    "    \"Wrong domain\": df.error_msg.str.contains(\"wrong domain\").sum(),\n",
    "    \"Parse error\": (articles == \"parse_error\").any(axis=1).sum()\n",
    "}\n",
    "\n",
    "print(f\"Removing {(~articles.success).sum()} that were not parsed successfully.\")\n",
    "print(f\"Breakdown of reasons: {errors}\")\n",
    "\n",
    "articles[~articles.success].source.value_counts()"
   ]
  },
  {
   "cell_type": "code",
   "execution_count": 24,
   "metadata": {},
   "outputs": [],
   "source": [
    "articles = articles[articles.success]"
   ]
  },
  {
   "cell_type": "markdown",
   "metadata": {},
   "source": [
    "### Publication date\n",
    "\n",
    "Only keep articles published Mar 1 - Apr 30"
   ]
  },
  {
   "cell_type": "code",
   "execution_count": 25,
   "metadata": {},
   "outputs": [],
   "source": [
    "# Convert dates to datetime format\n",
    "articles.published = pd.to_datetime(articles.published, utc=True)\n",
    "articles.modified = pd.to_datetime(articles.modified, utc=True)"
   ]
  },
  {
   "cell_type": "code",
   "execution_count": 26,
   "metadata": {},
   "outputs": [
    {
     "name": "stdout",
     "output_type": "stream",
     "text": [
      "Removing 1645 articles in Spanish\n"
     ]
    },
    {
     "data": {
      "text/plain": [
       "popsci       1420\n",
       "newsmed        82\n",
       "ifls           73\n",
       "healthday      29\n",
       "medpage        21\n",
       "guardian       10\n",
       "nyt             8\n",
       "wired           2\n",
       "Name: source, dtype: int64"
      ]
     },
     "execution_count": 26,
     "metadata": {},
     "output_type": "execute_result"
    }
   ],
   "source": [
    "good_articles = (articles.published>=\"2021-03-01\")&(articles.published<=\"2021-04-29\")\n",
    "bad_articles = ~good_articles\n",
    "print(f\"Removing {bad_articles.sum()} articles in Spanish\")\n",
    "\n",
    "articles[bad_articles][\"source\"].value_counts()"
   ]
  },
  {
   "cell_type": "code",
   "execution_count": 27,
   "metadata": {},
   "outputs": [],
   "source": [
    "articles = articles[good_articles]"
   ]
  },
  {
   "cell_type": "markdown",
   "metadata": {},
   "source": [
    "### Language\n",
    "\n",
    "Remove articles that aren't English"
   ]
  },
  {
   "cell_type": "code",
   "execution_count": 28,
   "metadata": {},
   "outputs": [
    {
     "name": "stdout",
     "output_type": "stream",
     "text": [
      "Removing 228 articles in Spanish\n"
     ]
    },
    {
     "data": {
      "text/plain": [
       "healthday    219\n",
       "nyt            9\n",
       "Name: source, dtype: int64"
      ]
     },
     "execution_count": 28,
     "metadata": {},
     "output_type": "execute_result"
    }
   ],
   "source": [
    "spanish_articles = articles.section.isin([\"Consumer News in Spanish\", \"en Español\", \"HealthDay TV en Español\"])\n",
    "print(f\"Removing {spanish_articles.sum()} articles in Spanish\")\n",
    "\n",
    "articles[spanish_articles][\"source\"].value_counts()"
   ]
  },
  {
   "cell_type": "code",
   "execution_count": 29,
   "metadata": {},
   "outputs": [],
   "source": [
    "articles = articles[~spanish_articles]"
   ]
  },
  {
   "cell_type": "markdown",
   "metadata": {},
   "source": [
    "### Intercoding samples\n",
    "\n",
    "Remove articles that were used for previous samples except `all_venues_sample_05052021.csv` (this file is already part of the final dataset and has been coded)."
   ]
  },
  {
   "cell_type": "code",
   "execution_count": 30,
   "metadata": {},
   "outputs": [
    {
     "name": "stdout",
     "output_type": "stream",
     "text": [
      "Removing 41 articles previously sampled\n"
     ]
    },
    {
     "data": {
      "text/plain": [
       "wired        10\n",
       "nyt           8\n",
       "healthday     7\n",
       "medpage       7\n",
       "guardian      7\n",
       "newsmed       2\n",
       "Name: source, dtype: int64"
      ]
     },
     "execution_count": 30,
     "metadata": {},
     "output_type": "execute_result"
    }
   ],
   "source": [
    "samples = list(sample_dir.glob(\"*.csv\"))\n",
    "\n",
    "sampled_urls = []\n",
    "for sample in samples:\n",
    "    if sample.name == \"all_venues_sample_05052021.csv\":\n",
    "        continue\n",
    "    df = pd.read_csv(sample)\n",
    "    if \"link\" in df:\n",
    "        sampled_urls.extend(df[\"link\"].tolist())\n",
    "    else:\n",
    "        sampled_urls.extend(df[\"url\"].tolist())\n",
    "        \n",
    "sampled_articles = articles.url.isin(sampled_urls)\n",
    "print(f\"Removing {sampled_articles.sum()} articles previously sampled\")\n",
    "articles[sampled_articles][\"source\"].value_counts()"
   ]
  },
  {
   "cell_type": "code",
   "execution_count": 31,
   "metadata": {},
   "outputs": [],
   "source": [
    "articles = articles[~sampled_articles]"
   ]
  },
  {
   "cell_type": "markdown",
   "metadata": {},
   "source": [
    "## Final dataset"
   ]
  },
  {
   "cell_type": "code",
   "execution_count": 32,
   "metadata": {},
   "outputs": [
    {
     "data": {
      "text/plain": [
       "(5172, 12)"
      ]
     },
     "execution_count": 32,
     "metadata": {},
     "output_type": "execute_result"
    }
   ],
   "source": [
    "articles.shape"
   ]
  },
  {
   "cell_type": "code",
   "execution_count": 33,
   "metadata": {},
   "outputs": [
    {
     "data": {
      "image/png": "[encoded data removed]",
      "text/plain": [
       "<Figure size 864x576 with 1 Axes>"
      ]
     },
     "metadata": {
      "needs_background": "light"
     },
     "output_type": "display_data"
    }
   ],
   "source": [
    "source_order = [\"guardian\", \"nyt\", \"wired\", \"popsci\", \"ifls\", \"newsmed\", \"healthday\", \"medpage\"]\n",
    "source_order = source_order[::-1]\n",
    "\n",
    "plt.figure(figsize=(12,8))\n",
    "with sns.axes_style(\"whitegrid\"):\n",
    "    ax = orig_counts.loc[source_order].plot(kind=\"barh\", alpha=.3)\n",
    "    pdf = articles.groupby(\"source\").size()\n",
    "    pdf.loc[source_order].plot(kind=\"barh\", ax=ax)\n",
    "    sns.despine(bottom=True)\n",
    "    plt.grid(False, axis=\"y\")\n",
    "#     xticks = range(100, 1600, 100)\n",
    "    yticks, labels = plt.yticks()\n",
    "    labels = [f\"{_.get_text()} (n={pdf[_.get_text()]})\" for _ in labels]\n",
    "    plt.yticks(ticks=yticks, labels=labels)\n",
    "#     plt.xticks(xticks, xticks)"
   ]
  },
  {
   "cell_type": "code",
   "execution_count": 34,
   "metadata": {},
   "outputs": [],
   "source": [
    "articles.to_csv(output_dir / \"filtered_articles.csv\")"
   ]
  }
 ],
 "metadata": {
  "kernelspec": {
   "display_name": "altmetric-news",
   "language": "python",
   "name": "altmetric-news"
  },
  "language_info": {
   "codemirror_mode": {
    "name": "ipython",
    "version": 3
   },
   "file_extension": ".py",
   "mimetype": "text/x-python",
   "name": "python",
   "nbconvert_exporter": "python",
   "pygments_lexer": "ipython3",
   "version": "3.8.2"
  }
 },
 "nbformat": 4,
 "nbformat_minor": 4
}
