{
 "cells": [
  {
   "cell_type": "code",
   "execution_count": 1,
   "metadata": {},
   "outputs": [],
   "source": [
    "import datetime\n",
    "from pathlib import Path\n",
    "\n",
    "import feedparser\n",
    "import pandas as pd"
   ]
  },
  {
   "cell_type": "code",
   "execution_count": 5,
   "metadata": {},
   "outputs": [],
   "source": [
    "# How many samples to user per news source\n",
    "N_SAMPLES = 10\n",
    "data_dir = Path(\"../data\")"
   ]
  },
  {
   "cell_type": "code",
   "execution_count": 6,
   "metadata": {},
   "outputs": [],
   "source": [
    "# soad news sources\n",
    "news_sources = pd.read_csv(data_dir / \"news_sources.csv\")\n",
    "\n",
    "venue_names = news_sources[\"short_name\"].tolist()\n",
    "feed_urls = news_sources[\"feed_url\"].tolist()"
   ]
  },
  {
   "cell_type": "code",
   "execution_count": null,
   "metadata": {},
   "outputs": [],
   "source": [
    "dfs = []\n",
    "for venue, rss_feed in zip(venue_names, feed_urls):\n",
    "    feed = feedparser.parse(rss_feed)\n",
    "    articles = pd.DataFrame(feed[\"entries\"])\n",
    "    articles[\"venue\"] = venue\n",
    "    df = pd.DataFrame()\n",
    "    df = articles[\n",
    "        [\"venue\", \"title\", \"link\", \"summary\", \"published\"]\n",
    "    ].copy()\n",
    "    if \"tags\" in articles.columns:\n",
    "        df[\"tags\"] = articles[\"tags\"]\n",
    "    else:\n",
    "        df[\"tags\"] = None\n",
    "\n",
    "    df = df.sample(N_SAMPLES)\n",
    "    dfs.append(df)"
   ]
  },
  {
   "cell_type": "code",
   "execution_count": null,
   "metadata": {},
   "outputs": [],
   "source": [
    "df = pd.concat(dfs, ignore_index=True)\n",
    "df.index.name = \"id\""
   ]
  },
  {
   "cell_type": "code",
   "execution_count": null,
   "metadata": {},
   "outputs": [],
   "source": [
    "df.to_csv(data_dir / f\"sample_{ts}.csv\", encoding=\"utf8\")"
   ]
  }
 ],
 "metadata": {
  "kernelspec": {
   "display_name": "altmetric-news",
   "language": "python",
   "name": "altmetric-news"
  },
  "language_info": {
   "codemirror_mode": {
    "name": "ipython",
    "version": 3
   },
   "file_extension": ".py",
   "mimetype": "text/x-python",
   "name": "python",
   "nbconvert_exporter": "python",
   "pygments_lexer": "ipython3",
   "version": "3.8.2"
  }
 },
 "nbformat": 4,
 "nbformat_minor": 4
}
