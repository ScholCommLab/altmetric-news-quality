{
 "cells": [
  {
   "cell_type": "markdown",
   "metadata": {},
   "source": [
    "# Altmetric News Quality | Data Sources\n",
    "\n",
    "Candidate publications:\n",
    "\n",
    "- WIRED (Science section) | https://www.wired.com/category/science/\n",
    "- NYT (Science Section) | https://www.nytimes.com/section/science\n",
    "- Guardian (Science Section) | https://www.theguardian.com/science\n",
    "- Popular Science | https://www.popsci.com/)\n",
    "- Scienceline | https://scienceline.org/\n",
    "- ScienceBlogs | https://scienceblogs.com/\n",
    "\n",
    "Edit 22.2.2020: Removing IFLScience and replacing it with scienceline.org"
   ]
  },
  {
   "cell_type": "markdown",
   "metadata": {},
   "source": [
    "## 1. How can we get programmatic access to the population of published articles?\n",
    "\n",
    "- Is there an API?\n",
    "- Do they have an RSS feed?\n",
    "\n",
    "Let's just go through each news source and try to answer these questions:"
   ]
  },
  {
   "cell_type": "markdown",
   "metadata": {},
   "source": [
    "### WIRED\n",
    "\n",
    "- API: Doesn't seem so.\n",
    "- RSS: https://www.wired.com/feed/category/science/latest/rss\n",
    "\n",
    "Example response for one item:\n",
    "\n",
    "```xml\n",
    "<item>\n",
    "<title>Researchers Are Studying These Worm Blobs to Build Robots</title>\n",
    "<link>https://www.wired.com/story/researchers-are-studying-these-worm-blobs-to-build-robots</link>\n",
    "<guid isPermaLink=\"false\">6026c01ac46dad7d557e27d2</guid>\n",
    "<pubDate>Wed, 17 Feb 2021 13:00:00 +0000</pubDate>\n",
    "<media:content/>\n",
    "<description>These crawlers form clumps to protect the collective. Understanding their movement gives engineers a model for shape-shifting robot swarms.</description>\n",
    "<category>Science</category>\n",
    "<category>Science / Robots</category>\n",
    "<media:keywords>robots, robotics, materials science, Biology, engineering</media:keywords>\n",
    "<dc:creator>Eric Niiler</dc:creator>\n",
    "<dc:modified>Tue, 16 Feb 2021 19:53:11 +0000</dc:modified>\n",
    "<dc:publisher>Condé Nast</dc:publisher>\n",
    "<dc:subject>Creepy Crawly</dc:subject>\n",
    "<media:thumbnail url=\"https://media.wired.com/photos/60270566c46dad7d557e27e5/master/pass/Science_worm-blobs_3202.jpg\" width=\"2400\" height=\"1600\"/>\n",
    "</item>\n",
    "```"
   ]
  },
  {
   "cell_type": "markdown",
   "metadata": {},
   "source": [
    "### NYT\n",
    "\n",
    "- API: https://developer.nytimes.com/apis\n",
    "\n",
    "The `archive` endpoint provides access to all articles in a given month. `articlesearch` provides access by keywords and can be further filtered using fields (`section_name` is a possible value). Rate limits: 4,000 requests per day and 10 requests per minute.\n",
    "\n",
    "- RSS: https://rss.nytimes.com/services/xml/rss/nyt/Science.xml\n",
    "\n",
    "Example item:\n",
    "\n",
    "```xml\n",
    "<item>\n",
    "<title>Million-Year-Old DNA Rewrites the Mammoth Family Tree</title>\n",
    "<link>https://www.nytimes.com/2021/02/17/science/DNA-mammoth.html</link>\n",
    "<guid isPermaLink=\"true\">https://www.nytimes.com/2021/02/17/science/DNA-mammoth.html</guid>\n",
    "<atom:link href=\"https://www.nytimes.com/2021/02/17/science/DNA-mammoth.html\" rel=\"standout\"/>\n",
    "<description>Genomic data — the oldest ever recovered from a fossil — reveals the origin and evolution of the Columbian mammoth.</description>\n",
    "<dc:creator>Katherine Kornei</dc:creator>\n",
    "<pubDate>Wed, 17 Feb 2021 16:00:09 +0000</pubDate>\n",
    "<category domain=\"http://www.nytimes.com/namespaces/keywords/des\">Mammoths (Animals)</category>\n",
    "<category domain=\"http://www.nytimes.com/namespaces/keywords/des\">Genetics and Heredity</category>\n",
    "<category domain=\"http://www.nytimes.com/namespaces/keywords/des\">DNA (Deoxyribonucleic Acid)</category>\n",
    "<category domain=\"http://www.nytimes.com/namespaces/keywords/des\">Research</category>\n",
    "<category domain=\"http://www.nytimes.com/namespaces/keywords/des\">Paleontology</category>\n",
    "<category domain=\"http://www.nytimes.com/namespaces/keywords/des\">Ice Age</category>\n",
    "<category domain=\"http://www.nytimes.com/namespaces/keywords/nyt_org\">Nature (Journal)</category>\n",
    "<category domain=\"http://www.nytimes.com/namespaces/keywords/des\">Fossils</category>\n",
    "<category domain=\"http://www.nytimes.com/namespaces/keywords/des\">your-feed-science</category>\n",
    "</item>\n",
    "```"
   ]
  },
  {
   "cell_type": "markdown",
   "metadata": {},
   "source": [
    "### Guardian\n",
    "\n",
    "- API: https://open-platform.theguardian.com/documentation/\n",
    "\n",
    "This example request finds 90 science articles in June 2020: https://content.guardianapis.com/search?q=section=science&from-date=2020-06-01&to-date=2020-07-01&api-key=test\n",
    "\n",
    "- RSS: https://www.theguardian.com/science/rss\n",
    "\n",
    "Example item:\n",
    "\n",
    "```xml\n",
    "<item>\n",
    "<title>Heating Arctic may be to blame for snowstorms in Texas, scientists argue</title>\n",
    "<link>https://www.theguardian.com/science/2021/feb/17/arctic-heating-winter-storms-climate-change</link>\n",
    "<description><p>The wintry weather that has battered the southern US and parts of Europe could be a counterintuitive effect of the climate crisis</p><p>Associating climate change, normally connected with roasting heat, with an unusual winter storm that has crippled swaths of Texas and brought freezing temperatures across the southern US can seem counterintuitive. But scientists say there is evidence that the rapid heating of the Arctic can help push frigid air from the north pole much further south, possibly to the US-Mexico border.</p> <a href=\"https://www.theguardian.com/science/2021/feb/17/arctic-heating-winter-storms-climate-change\">Continue reading...</a></description>\n",
    "<category domain=\"https://www.theguardian.com/science/scienceofclimatechange\">Climate change</category>\n",
    "<category domain=\"https://www.theguardian.com/environment/climate-change\">Climate change</category>\n",
    "<category domain=\"https://www.theguardian.com/science/science\">Science</category>\n",
    "<category domain=\"https://www.theguardian.com/environment/environment\">Environment</category>\n",
    "<pubDate>Wed, 17 Feb 2021 06:00:12 GMT</pubDate>\n",
    "<guid>https://www.theguardian.com/science/2021/feb/17/arctic-heating-winter-storms-climate-change</guid>\n",
    "<media:content width=\"140\" url=\"https://i.guim.co.uk/img/media/edd43b2b9068118d12e4b8beb6faa855a98a54d3/0_13_3299_1980/master/3299.jpg?width=140&quality=85&auto=format&fit=max&s=da8cf2315095149ae752886bd120337a\">\n",
    "<media:credit scheme=\"urn:ebu\">Photograph: LM Otero/AP</media:credit>\n",
    "</media:content>\n",
    "<media:content width=\"460\" url=\"https://i.guim.co.uk/img/media/edd43b2b9068118d12e4b8beb6faa855a98a54d3/0_13_3299_1980/master/3299.jpg?width=460&quality=85&auto=format&fit=max&s=235421f2d9ee38709a2120987bdb574b\">\n",
    "<media:credit scheme=\"urn:ebu\">Photograph: LM Otero/AP</media:credit>\n",
    "</media:content>\n",
    "<dc:creator>Oliver Milman</dc:creator>\n",
    "<dc:date>2021-02-17T06:00:12Z</dc:date>\n",
    "</item>\n",
    "```"
   ]
  },
  {
   "cell_type": "markdown",
   "metadata": {},
   "source": [
    "### Popular Science\n",
    "\n",
    "- API: No\n",
    "- RSS: https://www.popsci.com/arcio/rss/\n",
    "\n",
    "The RSS feed also provides the content in structured form.\n",
    "\n",
    "Example item:\n",
    "\n",
    "```xml\n",
    "<item>\n",
    "<title>The safest ways to stay warm during a power outage</title>\n",
    "<link>https://www.popsci.com/story/diy/how-to-stay-warm-without-power/</link>\n",
    "<description>Losing power can be dangerous when it's cold outside, so you'll need to find a way to stay warm. Follow this advice to trap heat as effectively as possible.</description>\n",
    "<guid isPermaLink=\"true\">https://www.popsci.com/story/diy/how-to-stay-warm-without-power/</guid>\n",
    "<dc:creator>John Kennedy</dc:creator>\n",
    "<category>Diy</category>\n",
    "<pubDate>Wed, 17 Feb 2021 19:16:55 +0000</pubDate>\n",
    "<content:encoded>\n",
    "<![CDATA[ <img alt=\"When the power's out and it's cold outside, you need to find a way to keep warm.\" data-has-syndication-rights=\"1\" height=\"1500\" \n",
    "\n",
    "...\n",
    "\n",
    "condensation can build up and freeze, forcing carbon monoxide back into your home just when you think it’s safe again.</p> ]]>\n",
    "</content:encoded>\n",
    "</item>\n",
    "```"
   ]
  },
  {
   "cell_type": "markdown",
   "metadata": {},
   "source": [
    "### ScienceBlogs\n",
    "\n",
    "- API: Nope\n",
    "- RSS: https://scienceblogs.com/rss.xml\n",
    "\n",
    "They seem to be providing a valid RSS feed, however, the formatting definitely requires some extra work to figure out what is exactly going on there. However, they also seem to be providing the HTML fulltext in their RSS feed."
   ]
  },
  {
   "cell_type": "markdown",
   "metadata": {},
   "source": [
    "### Scienceline\n",
    "\n",
    "- API: Nope.\n",
    "- RSS: https://scienceline.org/feed/\n",
    "\n",
    "\n",
    "Example item\n",
    "\n",
    "```xml\n",
    "<item>\n",
    "    <title>Excluding visitors from hospitals may harm patients, families and providers, say health care workers</title>\n",
    "    <link>https://scienceline.org/2021/02/excluding-visitors-from-hospitals-may-harm-patients-families-and-providers-say-health-care-workers/</link>\n",
    "    <comments>https://scienceline.org/2021/02/excluding-visitors-from-hospitals-may-harm-patients-families-and-providers-say-health-care-workers/#respond</comments>\n",
    "    <dc:creator><![CDATA[Lauren Leffer]]></dc:creator>\n",
    "    <pubDate>Fri, 19 Feb 2021 13:00:45 +0000</pubDate>\n",
    "    <category><![CDATA[Health]]></category>\n",
    "    <category><![CDATA[COVID-19]]></category>\n",
    "    <category><![CDATA[Family]]></category>\n",
    "    <category><![CDATA[health policy]]></category>\n",
    "    <category><![CDATA[hospital]]></category>\n",
    "    <category><![CDATA[hospital policy]]></category>\n",
    "    <category><![CDATA[pandemic]]></category>\n",
    "    <category><![CDATA[patient care]]></category>\n",
    "    <category><![CDATA[public health]]></category>\n",
    "    <guid isPermaLink=\"false\">https://scienceline.org/?p=33156</guid>\n",
    "    <description><![CDATA[<p>Hospitals and staff have tried to adapt through multiple COVID-19 waves with changing practices and communication tools</p>\n",
    "<p>The post <a rel=\"nofollow\" href=\"https://scienceline.org/2021/02/excluding-visitors-from-hospitals-may-harm-patients-families-and-providers-say-health-care-workers/\">Excluding visitors from hospitals may harm patients, families and providers, say health care workers</a> appeared first on <a rel=\"nofollow\" href=\"https://scienceline.org\">Scienceline</a>.</p>\n",
    "]]></description>\n",
    "    <wfw:commentRss>https://scienceline.org/2021/02/excluding-visitors-from-hospitals-may-harm-patients-families-and-providers-say-health-care-workers/feed/</wfw:commentRss>\n",
    "    <slash:comments>0</slash:comments>\n",
    "</item>\n",
    "```"
   ]
  },
  {
   "cell_type": "markdown",
   "metadata": {},
   "source": [
    "## Summary | Collecting articles\n",
    "\n",
    "Most of these sources provide structured access to their content through RSS feeds. Most are well structured, the two big newspapers also provide free access to APIs. Both popsci and scienceblogs also include the full texts in their feeds (incl. markup) although scienceblogs seems a bit outdated.\n",
    "\n",
    "IFLScience seems to be the problem child with no API and no RSS feed, workarounds seem possible: External feeds like third-party RSS or their Twitter feed (some work is required to confirm that whatever is retrieved is also representative of their content). The last option of crawling their landing page seems feasible, however, some messy stuff will remain as I couldn't find an immediate way to retrieve it by publication date.\n",
    "\n",
    "| Publication  | API | RSS | Direct Content |\n",
    "| ------------ | --- | --- | -------------- |\n",
    "| Wired        | ❌   | ✅   | ❌              |\n",
    "| NYT          | ✅   | ✅   | ❌              |\n",
    "| Guardian     | ✅   | ✅   | ❌              |\n",
    "| popsci       | ❌   | ✅   | ✅              |\n",
    "| scienceblogs | ❌   | ✅   | ✅              |\n",
    "| scienceline   | ❌   | ✅   | ❌             |"
   ]
  },
  {
   "cell_type": "markdown",
   "metadata": {},
   "source": [
    "## 2. How can we retrieve individual articles?\n",
    "\n",
    "Some of the feeds (popsci, scienceblogs) already provide the fulltexts including markup. Next we want to figure out how we can get the remaining sources into a processable format and representation. Some options are:\n",
    "\n",
    "- Use the python library [newspaper](https://newspaper.readthedocs.io/en/latest/) to retrieve individual articles.\n",
    "- Use other libraries that are meant as generic web content scrapers\n",
    "- Manually write a scraper for publications\n",
    "\n",
    "The first option is definitely the preferred one and I expect it to work well for the bigger outlets.\n",
    "\n",
    "**Let's again go through each candidate source and attempt to get an example article into a structured format and output all URLs in the article body.**"
   ]
  },
  {
   "cell_type": "code",
   "execution_count": 1,
   "metadata": {},
   "outputs": [],
   "source": [
    "from newspaper import Article\n",
    "from bs4 import BeautifulSoup"
   ]
  },
  {
   "cell_type": "markdown",
   "metadata": {},
   "source": [
    "### WIRED\n",
    "\n",
    "Example article: https://www.wired.com/story/vaccine-progress-new-mask-guidelines-coronavirus-news/"
   ]
  },
  {
   "cell_type": "code",
   "execution_count": 2,
   "metadata": {},
   "outputs": [],
   "source": [
    "url = \"https://www.wired.com/story/vaccine-progress-new-mask-guidelines-coronavirus-news/\""
   ]
  },
  {
   "cell_type": "code",
   "execution_count": 3,
   "metadata": {},
   "outputs": [
    {
     "data": {
      "text/plain": [
       "['https://www.wired.com/newsletter/science?sourceCode=ArticleLinkTop',\n",
       " 'https://www.washingtonpost.com/health/2021/02/11/vaccine-supply-biden/',\n",
       " 'https://www.nbcnews.com/politics/white-house/150-million-vaccinations-tracker-biden-goal-n1255716',\n",
       " 'https://www.nytimes.com/2021/02/11/world/asia/vaccine-diplomacy-india-china.html',\n",
       " 'https://www.wired.com/story/covid-19-vaccine-scams-spread-facebook-telegram/',\n",
       " 'https://covidtracking.com/analysis-updates/third-surge-continues-to-ease-weekly-covid-19-data-feb-11',\n",
       " 'https://www.statnews.com/2021/02/10/covid-19-cases-are-falling-variant-driven-storm/',\n",
       " 'https://www.wired.com/story/all-these-mutant-virus-strains-need-new-code-names/',\n",
       " 'https://www.nytimes.com/2021/02/07/health/coronavirus-variant-us-spread.html',\n",
       " 'http://dph.illinois.gov/news/first-case-b1351-covid-19-variant-illinois',\n",
       " 'https://www.newsobserver.com/news/coronavirus/article249196830.html',\n",
       " 'https://www.washingtonpost.com/health/2021/02/10/cdc-double-masks-covid/',\n",
       " 'https://www.wired.com/story/how-to-double-mask/',\n",
       " 'https://www.reuters.com/article/us-health-coronavirus-usa-education/u-s-schools-pressured-to-reopen-in-pandemic-to-receive-new-cdc-guidance-idUSKBN2AC171',\n",
       " 'https://www.cnn.com/2021/02/11/politics/biden-schools-five-days-a-week/index.html',\n",
       " 'https://www.cnbc.com/2021/02/03/cdc-director-says-schools-can-safely-reopen-without-vaccinating-teachers.html',\n",
       " 'https://www.wired.com/story/covid-schools-experiment-orlando/',\n",
       " 'https://www.politico.com/states/california/story/2021/02/03/san-francisco-sues-school-district-over-closed-campuses-with-no-end-in-sight-1361744',\n",
       " 'https://www.nytimes.com/2021/02/08/nyregion/nyc-middle-schools-reopening.html',\n",
       " 'https://www.chicagotribune.com/coronavirus/ct-cps-reopens-after-teachers-union-fight-20210211-cnexirsqerb7bhv4uamnau45xq-story.html',\n",
       " 'https://www.wired.com/story/hackers-mason-jars-psychedelic-science-diy-shrooms/',\n",
       " 'https://www.wired.com/story/preterm-babies-lonely-terror-of-a-pandemic-nicu/',\n",
       " 'https://www.wired.com/story/winter-clearance-outdoor-sale-february-2021/',\n",
       " 'https://www.wired.com/story/sundance-malcolm-and-marie-pandemic-movies/',\n",
       " 'https://www.wired.com/story/hollywood-covid-19-filmmaking-tech/']"
      ]
     },
     "execution_count": 3,
     "metadata": {},
     "output_type": "execute_result"
    }
   ],
   "source": [
    "article = Article(url)\n",
    "article.download()\n",
    "article.parse()\n",
    "article.clean_top_node.xpath('//a/@href') "
   ]
  },
  {
   "cell_type": "markdown",
   "metadata": {},
   "source": [
    "### NYT (Science Section)\n",
    "\n",
    "Example article: https://www.nytimes.com/2021/02/17/science/DNA-mammoth.html"
   ]
  },
  {
   "cell_type": "code",
   "execution_count": 29,
   "metadata": {},
   "outputs": [],
   "source": [
    "url = \"https://www.nytimes.com/2021/02/17/science/DNA-mammoth.html\""
   ]
  },
  {
   "cell_type": "code",
   "execution_count": 30,
   "metadata": {},
   "outputs": [
    {
     "data": {
      "text/plain": [
       "['https://dx.doi.org/10.1038/s41586-021-03224-9',\n",
       " 'http://mammoth.psu.edu/society.html',\n",
       " 'https://www.nytimes.com/2020/10/23/science/ancient-footprints.html?searchResultPosition=2',\n",
       " 'https://www.bbc.com/news/science-environment-27477167']"
      ]
     },
     "execution_count": 30,
     "metadata": {},
     "output_type": "execute_result"
    }
   ],
   "source": [
    "article = Article(url)\n",
    "article.download()\n",
    "article.parse()\n",
    "article.clean_top_node.xpath('//a/@href') "
   ]
  },
  {
   "cell_type": "markdown",
   "metadata": {},
   "source": [
    "### Guardian\n",
    "\n",
    "Example article: https://www.theguardian.com/science/2021/feb/17/arctic-heating-winter-storms-climate-change"
   ]
  },
  {
   "cell_type": "code",
   "execution_count": 31,
   "metadata": {},
   "outputs": [],
   "source": [
    "url = \"https://www.theguardian.com/science/2021/feb/17/arctic-heating-winter-storms-climate-change\""
   ]
  },
  {
   "cell_type": "code",
   "execution_count": 32,
   "metadata": {},
   "outputs": [
    {
     "data": {
      "text/plain": [
       "['https://www.aer.com/',\n",
       " 'https://www.nature.com/articles/s41558-019-0662-y.epdf?author_access_token=eLgfI7iZmZLsMW775QthR9RgN0jAjWel9jnR3ZoTv0MYzE9Z0SoI_C-IWctwpzcpJoMtrmTeySa6t6ounUhExER4H2IzZbQRlhcKP0j1EKTcnJMsJOaPFkUmhXTiRXfQTD2jBRU5Z1oLGfp65qXkXA%3D%3D',\n",
       " 'https://www.ncbi.nlm.nih.gov/pmc/articles/PMC4455715/',\n",
       " 'https://twitter.com/ClimateOfGavin/status/1360942675537575936',\n",
       " 'https://weather.com/science/environment/news/2019-01-21-trump-alludes-to-winter-storm-to-mock-climate-change']"
      ]
     },
     "execution_count": 32,
     "metadata": {},
     "output_type": "execute_result"
    }
   ],
   "source": [
    "article = Article(url)\n",
    "article.download()\n",
    "article.parse()\n",
    "article.clean_top_node.xpath('//a/@href') "
   ]
  },
  {
   "cell_type": "markdown",
   "metadata": {},
   "source": [
    "### Popular Science\n",
    "\n",
    "Example article: https://www.popsci.com/story/health/covid-19-latest-numbers-cases-deaths/"
   ]
  },
  {
   "cell_type": "code",
   "execution_count": 36,
   "metadata": {},
   "outputs": [],
   "source": [
    "url = \"https://www.popsci.com/story/animals/spiny-water-flea/\""
   ]
  },
  {
   "cell_type": "code",
   "execution_count": 37,
   "metadata": {},
   "outputs": [
    {
     "data": {
      "text/plain": [
       "[]"
      ]
     },
     "execution_count": 37,
     "metadata": {},
     "output_type": "execute_result"
    }
   ],
   "source": [
    "article = Article(url)\n",
    "article.download()\n",
    "article.parse()\n",
    "article.clean_top_node.xpath('//a/@href') "
   ]
  },
  {
   "cell_type": "code",
   "execution_count": 38,
   "metadata": {},
   "outputs": [
    {
     "data": {
      "text/plain": [
       "'A spiky flea could ruin Midwestern ecosystems and kill native fish\\n\\nAnglers and boaters may be fueling the spread of invasive spiny water flea from the Great Lakes—but they can help beat it back, too.'"
      ]
     },
     "execution_count": 38,
     "metadata": {},
     "output_type": "execute_result"
    }
   ],
   "source": [
    "article.text"
   ]
  },
  {
   "cell_type": "markdown",
   "metadata": {},
   "source": [
    "**Javascript required to access fulltext with `newspapers` but luckily we have their RSS feed**"
   ]
  },
  {
   "cell_type": "code",
   "execution_count": 43,
   "metadata": {},
   "outputs": [],
   "source": [
    "example_content = \"\"\"<img alt=\"More spiny water fleas are turning up in waterways across the Upper Midwest.\" data-has-syndication-rights=\"1\" height=\"872\" src=\"https://www.popsci.com/resizer/Zs4DS5x7P95_pl08seNcqn7Km10=/cloudfront-us-east-1.images.arcpublishing.com/bonnier/F6PEFNNMURA7RNHTDX7J274IKY.png\" width=\"1367\"/><br/><caption>More spiny water fleas are turning up in waterways across the Upper Midwest. (Minnesota Aquatic Invasive Species Research Center/)</caption><p><i>This story originally featured on </i><a href=\"https://www.outdoorlife.com/story/fishing/spiny-water-flea/\" target=\"_blank\">Outdoor Life</a><i>.</i></p><p>It seems that the next troublesome <a href=\"https://www.outdoorlife.com/story/fishing/invasive-species-what-you-can-do-to-stop-them/\" target=\"_blank\">invasive species</a> in the Upper Midwest is a tiny one. The spiny water flea has been latching onto fishing equipment, traveling the Great Lakes for decades, but now they are being transported to some of the most pristine waters in the Upper Midwest. The <a href=\"https://stopthespiny.com/\" target=\"_blank\">spiny water flea</a> is about half an inch long. It’s a creepy little critter, with a single, distinctive black eyespot at the head of one to four spines. A barbed tail juts out of its backside, making up about <a href=\"https://stopaquatichitchhikers.org/hitchhikers/crustaceans-spiny-water-flea/\" target=\"_blank\">70 percent of its length</a>. The translucent hitchhiker hooks onto watercraft, fishing lines—essentially everything and anything that touches the water—and then gets transported to new waters.</p><p>“Most water fleas eat algae, but a few of them, like spiny water fleas, also eat other water fleas. It’s kind of like wolves eating coyotes or foxes,” says<a href=\"https://www.nrri.umn.edu/about-nrri/Valerie-Brady\" target=\"_blank\"> Valerie Brady</a>, an aquatic ecologist at the University of Minnesota.</p><p>While they present no danger to humans or domestic animals, spiny water fleas rattle ecosystems that support game fish. Spiny water fleas <a href=\"https://nas.er.usgs.gov/queries/factsheet.aspx?SpeciesID=162\" target=\"_blank\">feed on other smaller, native water fleas</a>, which are a vital food sources for small fish and keep algae in check. When plankton populations crash, that sinks small fish numbers, which in turn decreases game fish numbers.</p><p>“It’s not just another addition to the food web, it disrupts the food web and makes it harder for small or young fish to feed. That has potential implications for the whole food web,” Brady says.</p><p>The spiny water flea is being studied and monitored in <a href=\"https://www.cbc.ca/news/canada/thunder-bay/invasive-spiny-water-flea-the-focus-of-quetico-based-study-1.5622600\" target=\"_blank\">Ontario’s Quetico Provincial Park</a> and <a href=\"https://www.minnpost.com/environment/2020/10/how-a-citizen-led-group-hopes-to-keep-invasive-species-out-of-the-boundary-waters/\" target=\"_blank\">Minnesota’s Boundary Waters Canoe Area Wilderness</a>. As more new anglers and boaters hit the water last year during COVID—and could be back out this spring—it’s even more critical to get the word out about this invader.</p><p>Like most damaging invasive species, spiny water fleas reproduce rapidly. At optimum temperatures, one female can produce <a href=\"https://stopaquatichitchhikers.org/hitchhikers/crustaceans-spiny-water-flea/\" target=\"_blank\">10 genetic replicas every two weeks</a>.</p><p>Currently, there are no successful means to eradicate the species. With no natural predators, there’s no stopping water fleas once they land in a lake. Small fish will choke or puncture their organs if they try to consume the flea due to its long, sharp spine.</p><p>Spiny water fleas also bring a million-dollar public recreation problem. As the fleas feed on plankton that consume algae, algae blooms begin to sprout up across a lake. Water treatment costs stack up, with municipalities spending millions to return to clearer water, including Wisconsin’s <a href=\"https://www.cleanlakesalliance.org/invasive-species-highlight-spiny-water-flea/\" target=\"_blank\">Lake Mendota</a>.</p><p>“Two to four million was the estimate of water treatment costs to get the same level of water quality that [Lake Mendota] had before spending water fleas,” says <a href=\"https://www.wri.wisc.edu/bio/tim-campbell/\" target=\"_blank\">Tim Campbell</a>, aquatic invasive species outreach specialist at the <a href=\"https://www.seagrant.wisc.edu/\" target=\"_blank\">University of Wisconsin Sea Grant Institute</a>.</p><p>Where did the flea come from?</p><img alt=\"The aquatic hitchhikers are about the size of a fingernail.\" data-has-syndication-rights=\"1\" height=\"330\" src=\"https://www.popsci.com/resizer/ZZd2soCGPL191sQ0SsEwZvzWiSw=/cloudfront-us-east-1.images.arcpublishing.com/bonnier/42G2P6Y3TJFCTJNRWPWZFK6F3I.jpg\" width=\"770\"/><br/><caption>The aquatic hitchhikers are about the size of a fingernail. (Clean Water Alliance/)</caption><p>The spiny water flea was first identified in North American in <a href=\"https://stopaquatichitchhikers.org/hitchhikers/crustaceans-spiny-water-flea/\" target=\"_blank\">1984 in Lake Huron</a>. Native to Russia’s Lake Ladoga, adjacent to the Baltic Sea, it arrived in the Midwest in the early 1980s after ships from European ports discharged ballast water into the St. Laurence River.</p><p>In the quarter-century since, the aquatic hitchhikers have spread by the “billions” across all of the Great Lakes. The creatures have begun to invade “our most pristine lakes,” the smaller inland waters of the <a href=\"https://nas.er.usgs.gov/queries/SpeciesAnimatedMap.aspx?SpeciesID=162\" target=\"_blank\">Midwest and Canada</a>.</p><p>“Once they get in, you can’t get rid of them. There’s no way to kill them without killing everything in the lake. That’s why we’re focusing so hard on stopping their spread,” Brady says.</p><p>Ecologists are calling on anglers and recreators to halt their spread. The most important step is to completely dry all fishing and boating equipment. The microscopic fleas can cling to fishing lines and survive in lake water at the base of your boat. Running a cloth down your fishing line can eliminate any aquatic hitchhikers reeled in.</p><p>“They cannot survive drying, so we urge anglers to get everything completely dry. The guidance is five days between boating trips [to different bodies of water], so if you [boat in spiny flea infested water] on Sunday, wait until the following weekend to go to a different body of water,” Campbell says.</p><p>Some have suggested that ducks are the culprits of cross-water spreads, but humans transporting the <a href=\"https://www.duluthnewstribune.com/sports/outdoors/6630283-Blame-us-not-ducks-for-spreading-spiny-water-fleas\" target=\"_blank\">fleas is the clear issue</a>. If you <a href=\"https://nas.er.usgs.gov/queries/SpeciesAnimatedMap.aspx?SpeciesID=162\" target=\"_blank\">map out their spread</a>, Brady notes, the majority of the fleas are found in lakes with public access.</p>\"\"\""
   ]
  },
  {
   "cell_type": "code",
   "execution_count": 46,
   "metadata": {},
   "outputs": [
    {
     "name": "stdout",
     "output_type": "stream",
     "text": [
      "https://www.outdoorlife.com/story/fishing/spiny-water-flea/\n",
      "https://www.outdoorlife.com/story/fishing/invasive-species-what-you-can-do-to-stop-them/\n",
      "https://stopthespiny.com/\n",
      "https://stopaquatichitchhikers.org/hitchhikers/crustaceans-spiny-water-flea/\n",
      "https://www.nrri.umn.edu/about-nrri/Valerie-Brady\n",
      "https://nas.er.usgs.gov/queries/factsheet.aspx?SpeciesID=162\n",
      "https://www.cbc.ca/news/canada/thunder-bay/invasive-spiny-water-flea-the-focus-of-quetico-based-study-1.5622600\n",
      "https://www.minnpost.com/environment/2020/10/how-a-citizen-led-group-hopes-to-keep-invasive-species-out-of-the-boundary-waters/\n",
      "https://stopaquatichitchhikers.org/hitchhikers/crustaceans-spiny-water-flea/\n",
      "https://www.cleanlakesalliance.org/invasive-species-highlight-spiny-water-flea/\n",
      "https://www.wri.wisc.edu/bio/tim-campbell/\n",
      "https://www.seagrant.wisc.edu/\n",
      "https://stopaquatichitchhikers.org/hitchhikers/crustaceans-spiny-water-flea/\n",
      "https://nas.er.usgs.gov/queries/SpeciesAnimatedMap.aspx?SpeciesID=162\n",
      "https://www.duluthnewstribune.com/sports/outdoors/6630283-Blame-us-not-ducks-for-spreading-spiny-water-fleas\n",
      "https://nas.er.usgs.gov/queries/SpeciesAnimatedMap.aspx?SpeciesID=162\n"
     ]
    }
   ],
   "source": [
    "soup = BeautifulSoup(example_content)\n",
    "links = soup.find_all('a')\n",
    "\n",
    "for tag in links:\n",
    "    link = tag.get('href',None)\n",
    "    if link is not None:\n",
    "        print(link)"
   ]
  },
  {
   "cell_type": "markdown",
   "metadata": {},
   "source": [
    "### Scienceline\n",
    "\n",
    "Example article: https://scienceline.org/2021/02/soil-erosion-washes-farms-phosphorus-down-drain/"
   ]
  },
  {
   "cell_type": "code",
   "execution_count": 3,
   "metadata": {},
   "outputs": [],
   "source": [
    "url = \"https://scienceline.org/2021/02/soil-erosion-washes-farms-phosphorus-down-drain/\""
   ]
  },
  {
   "cell_type": "code",
   "execution_count": 4,
   "metadata": {},
   "outputs": [
    {
     "data": {
      "text/plain": [
       "['https://reliefweb.int/report/world/food-prices-crisis-2007-2008-lessons-learned',\n",
       " 'https://www.theguardian.com/environment/2008/aug/12/biofuels.food',\n",
       " 'https://www.nature.com/articles/s41467-020-18326-7',\n",
       " 'https://duw.unibas.ch/en/persons/christine-alewell/',\n",
       " 'https://niss.gov.ng/',\n",
       " 'https://pubs.usgs.gov/periodicals/mcs2020/mcs2020-phosphate.pdf',\n",
       " 'http://www.fao.org/global-soil-partnership/about/why-the-partnership/secretariat/en/',\n",
       " 'https://www.carbonbrief.org/explainer-what-climate-models-tell-us-about-future-rainfall']"
      ]
     },
     "execution_count": 4,
     "metadata": {},
     "output_type": "execute_result"
    }
   ],
   "source": [
    "article = Article(url)\n",
    "article.download()\n",
    "article.parse()\n",
    "article.clean_top_node.xpath('//a/@href') "
   ]
  },
  {
   "cell_type": "markdown",
   "metadata": {},
   "source": [
    "### ScienceBlogs\n",
    "\n",
    "Example article: https://scienceblogs.com/sb-admin/2020/12/07/increase-infant-milk-formulas-and-why-it-matters-151455"
   ]
  },
  {
   "cell_type": "code",
   "execution_count": 41,
   "metadata": {},
   "outputs": [],
   "source": [
    "url = \"https://scienceblogs.com/sb-admin/2020/12/07/increase-infant-milk-formulas-and-why-it-matters-151455\""
   ]
  },
  {
   "cell_type": "code",
   "execution_count": 42,
   "metadata": {},
   "outputs": [
    {
     "data": {
      "text/plain": [
       "['https://www.thelancet.com/journals/lancet/article/PIIS0140-6736(16)00210-5/fulltext',\n",
       " 'https://www.ncbi.nlm.nih.gov/pmc/articles/PMC6486667/',\n",
       " 'https://www.who.int/health-topics/breastfeeding#tab=tab_2',\n",
       " 'https://onlinelibrary.wiley.com/doi/full/10.1111/mcn.13097',\n",
       " 'https://onlinelibrary.wiley.com/doi/full/10.1111/mcn.13097',\n",
       " 'https://www.shutterstock.com/image-photo/preparation-mixture-baby-feeding-on-wooden-554077681',\n",
       " 'https://www.shutterstock.com/image-photo/preparation-mixture-baby-feeding-on-wooden-554077681',\n",
       " 'https://www.who.int/nutrition/publications/infantfeeding/WHO_NMH_NHD_09.01/en/',\n",
       " 'https://onlinelibrary.wiley.com/doi/full/10.1111/mcn.13097',\n",
       " 'https://www.who.int/bulletin/volumes/98/6/19-229898/en/',\n",
       " 'https://www.who.int/nutrition/publications/infantfeeding/bfhi-implementation/en/',\n",
       " 'https://onlinelibrary.wiley.com/doi/full/10.1111/mcn.13097',\n",
       " 'https://onlinelibrary.wiley.com/doi/full/10.1111/mcn.12962',\n",
       " 'https://pubmed.ncbi.nlm.nih.gov/26314734/',\n",
       " 'https://globalizationandhealth.biomedcentral.com/articles/10.1186/s12992-020-00597-w#:%7E:text=Formula%20marketing%2C%20as%20for%20other,a%20brand%20and%20generic%20level.',\n",
       " 'https://pubmed.ncbi.nlm.nih.gov/31401600/',\n",
       " 'https://www.shutterstock.com/image-photo/toronto-canada-november-22-2014-baby-233666974',\n",
       " 'https://www.who.int/nutrition/publications/infantfeeding/information-note-cross-promotion-infant-formula/en/#:%7E:text=In%20summary%2C%20the%20now%20common,to%20breastfeeding%20and%20infant%20health.&text=As%20a%20result%2C%20young%20infants,cannot%20meet%20their%20nutritional%20needs.',\n",
       " 'https://www.unicef.org.uk/babyfriendly/baby-friendly-resources/international-code-marketing-breastmilk-substitutes-resources/the-code/',\n",
       " 'https://www.who.int/nutrition/publications/infantfeeding/breastmilk-substitutes-FAQ2017/en/',\n",
       " 'https://www.who.int/publications/i/item/9789240006010',\n",
       " 'https://www.ncbi.nlm.nih.gov/pmc/articles/PMC6735804/#:%7E:text=Globally%2C%20595%20379%20childhood%20deaths,type%20II%20diabetes%20each%20year',\n",
       " 'https://www.thelancet.com/journals/lancet/article/PIIS0140-6736(15)01024-7/fulltext',\n",
       " 'https://theconversation.com/the-rise-of-ultra-processed-foods-and-why-theyre-really-bad-for-our-health-140537#:%7E:text=We%20found%20that%20more%20ultra,%2C%20salt%20and%20trans%2Dfats.',\n",
       " 'https://www.vichealth.vic.gov.au/media-and-resources/media-releases/high-sugar-toddler-milks-overpriced-harmful',\n",
       " 'https://www.thelancet.com/journals/lancet/article/PIIS0140-6736(15)01024-7/fulltext',\n",
       " 'https://www.who.int/nutrition/netcode/en/',\n",
       " 'https://www.who.int/nutrition/publications/guidelines/breastfeeding-facilities-maternity-newborn/en/',\n",
       " 'https://theconversation.com/profiles/david-mccoy-265876',\n",
       " 'https://theconversation.com/institutions/queen-mary-university-of-london-1745',\n",
       " 'https://theconversation.com/profiles/julie-p-smith-145494',\n",
       " 'https://theconversation.com/institutions/australian-national-university-877',\n",
       " 'https://theconversation.com/profiles/phillip-baker-8620',\n",
       " 'https://theconversation.com/institutions/deakin-university-757',\n",
       " 'https://theconversation.com',\n",
       " 'https://theconversation.com/the-rise-of-commercial-milk-formulas-and-why-it-matters-for-the-worlds-women-and-children-149681']"
      ]
     },
     "execution_count": 42,
     "metadata": {},
     "output_type": "execute_result"
    }
   ],
   "source": [
    "article = Article(url)\n",
    "article.download()\n",
    "article.parse()\n",
    "article.clean_top_node.xpath('//a/@href') "
   ]
  },
  {
   "cell_type": "markdown",
   "metadata": {},
   "source": [
    "## Summary | Retrieving article content\n",
    "\n",
    "`newspapers` seems to be successfully retrieving article content, some metadata, but most importantly URLs in the main body of the texts.\n",
    "\n",
    "The only exception is popsci which apparently requires javascript/a browser to display content, but we can luckily workaround this issue using their RSS feed.\n",
    "\n",
    "| Publication  | Scrape article pages | Alternative sources for content | Structured content |\n",
    "| ------------ | --- | --- | --- |\n",
    "| Wired        | ✅   |  ❌  | ✅ |\n",
    "| NYT          | ✅   |  ✅ (API) |  ✅ |\n",
    "| Guardian     | ✅   |  ✅ (API) | ✅ |\n",
    "| popsci       | ❌   | ✅ (RSS)  | ✅ |\n",
    "| scienceblogs | ✅   | ✅  (RSS) | ✅ |\n",
    "| scienceline   | ✅   | ❌  | ✅ |"
   ]
  }
 ],
 "metadata": {
  "kernelspec": {
   "display_name": "altmetric-news",
   "language": "python",
   "name": "altmetric-news"
  },
  "language_info": {
   "codemirror_mode": {
    "name": "ipython",
    "version": 3
   },
   "file_extension": ".py",
   "mimetype": "text/x-python",
   "name": "python",
   "nbconvert_exporter": "python",
   "pygments_lexer": "ipython3",
   "version": "3.7.1"
  }
 },
 "nbformat": 4,
 "nbformat_minor": 4
}
