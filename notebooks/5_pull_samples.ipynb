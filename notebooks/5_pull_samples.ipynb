{
 "cells": [
  {
   "cell_type": "code",
   "execution_count": 88,
   "metadata": {},
   "outputs": [],
   "source": [
    "import datetime\n",
    "from pathlib import Path\n",
    "\n",
    "import feedparser\n",
    "import pandas as pd"
   ]
  },
  {
   "cell_type": "code",
   "execution_count": 89,
   "metadata": {},
   "outputs": [],
   "source": [
    "data_dir = Path(\"../data\")"
   ]
  },
  {
   "cell_type": "code",
   "execution_count": 90,
   "metadata": {},
   "outputs": [],
   "source": [
    "# load filtered articles\n",
    "articles = pd.read_csv(data_dir / \"processed/filtered_articles.csv\")"
   ]
  },
  {
   "cell_type": "code",
   "execution_count": 91,
   "metadata": {},
   "outputs": [],
   "source": [
    "N_PER_VENUE = 100"
   ]
  },
  {
   "cell_type": "code",
   "execution_count": 92,
   "metadata": {},
   "outputs": [],
   "source": [
    "# load most recent sample\n",
    "sample = pd.read_csv(data_dir / \"samples/all_venues_sample_05052021.csv\")\n",
    "sample = sample[sample.url.isin(articles.url)]\n",
    "sample = sample.drop(columns=\"id\")"
   ]
  },
  {
   "cell_type": "code",
   "execution_count": 93,
   "metadata": {},
   "outputs": [
    {
     "data": {
      "text/plain": [
       "wired        10\n",
       "medpage      10\n",
       "newsmed      10\n",
       "guardian     10\n",
       "nyt           9\n",
       "healthday     8\n",
       "ifls          6\n",
       "popsci        6\n",
       "Name: source, dtype: int64"
      ]
     },
     "execution_count": 93,
     "metadata": {},
     "output_type": "execute_result"
    }
   ],
   "source": [
    "sample.source.value_counts()"
   ]
  },
  {
   "cell_type": "code",
   "execution_count": 94,
   "metadata": {},
   "outputs": [
    {
     "data": {
      "text/plain": [
       "newsmed      100\n",
       "medpage      100\n",
       "healthday    100\n",
       "popsci       100\n",
       "nyt          100\n",
       "ifls         100\n",
       "guardian     100\n",
       "wired        100\n",
       "Name: source, dtype: int64"
      ]
     },
     "execution_count": 94,
     "metadata": {},
     "output_type": "execute_result"
    }
   ],
   "source": [
    "good_sample_count = sample.source.value_counts().to_dict()\n",
    "for venue, n in good_sample_count.items():\n",
    "    df = articles[articles.source==venue].sample(N_PER_VENUE - n, random_state=0)\n",
    "    sample = sample.append(df)\n",
    "sample.source.value_counts()"
   ]
  },
  {
   "cell_type": "code",
   "execution_count": 95,
   "metadata": {},
   "outputs": [],
   "source": [
    "sample.index.name = \"id\""
   ]
  },
  {
   "cell_type": "code",
   "execution_count": 96,
   "metadata": {},
   "outputs": [],
   "source": [
    "ts = datetime.datetime.now().date().isoformat()\n",
    "sample.to_csv(data_dir / f\"samples/all_venues_{ts}.csv\", encoding=\"utf8\")"
   ]
  }
 ],
 "metadata": {
  "kernelspec": {
   "display_name": "altmetric-news",
   "language": "python",
   "name": "altmetric-news"
  },
  "language_info": {
   "codemirror_mode": {
    "name": "ipython",
    "version": 3
   },
   "file_extension": ".py",
   "mimetype": "text/x-python",
   "name": "python",
   "nbconvert_exporter": "python",
   "pygments_lexer": "ipython3",
   "version": "3.8.2"
  }
 },
 "nbformat": 4,
 "nbformat_minor": 4
}
