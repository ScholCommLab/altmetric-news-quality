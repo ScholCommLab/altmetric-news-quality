{
 "cells": [
  {
   "cell_type": "code",
   "execution_count": 1,
   "metadata": {},
   "outputs": [],
   "source": [
    "import csv\n",
    "import datetime\n",
    "from pathlib import Path\n",
    "from pprint import pprint\n",
    "\n",
    "import feedparser\n",
    "import pandas as pd"
   ]
  },
  {
   "cell_type": "code",
   "execution_count": 2,
   "metadata": {},
   "outputs": [],
   "source": [
    "# data directory\n",
    "data_dir = Path(\"../data\")\n",
    "collection_dir = data_dir / \"collection\"\n",
    "\n",
    "# soad news sources\n",
    "news_sources = pd.read_csv(data_dir / \"news_sources.csv\")\n",
    "\n",
    "venue_names = news_sources[\"short_name\"].tolist()\n",
    "feed_urls = news_sources[\"feed_url\"].tolist()"
   ]
  },
  {
   "cell_type": "code",
   "execution_count": 31,
   "metadata": {},
   "outputs": [],
   "source": [
    "class LogWriter:\n",
    "    \"\"\"\n",
    "    Helper class to manage and write the scraping log\n",
    "    \"\"\"\n",
    "    def __init__(self, dir):\n",
    "        self.file = dir / \"log.csv\"\n",
    "        self.fieldnames = [\"timestamp\", \"venue\", \"new_articles\", \"error\"]\n",
    "\n",
    "        self.file_exists = self.file.exists()\n",
    "\n",
    "    def update(self, ts, venue, new_articles, error_msg):\n",
    "        with open(self.file, mode=\"a\") as csv_file:\n",
    "            writer = csv.DictWriter(csv_file, fieldnames=self.fieldnames)\n",
    "\n",
    "            if not self.file_exists:\n",
    "                writer.writeheader()\n",
    "\n",
    "            writer.writerow(\n",
    "                {\n",
    "                    \"timestamp\": ts,\n",
    "                    \"venue\": venue,\n",
    "                    \"new_articles\": new_articles,\n",
    "                    \"error\": error_msg,\n",
    "                }\n",
    "            )"
   ]
  },
  {
   "cell_type": "code",
   "execution_count": 16,
   "metadata": {},
   "outputs": [],
   "source": [
    "dfs = []\n",
    "for venue, rss_feed in feeds.items():\n",
    "    feed = feedparser.parse(rss_feed)\n",
    "    articles = pd.DataFrame(feed[\"entries\"])\n",
    "    articles[\"venue\"] = venue\n",
    "\n",
    "    df = articles[[\"venue\", \"title\", \"link\", \"summary\", \"author\", \"published\"]].copy()\n",
    "    if \"tags\" in articles.columns:\n",
    "        df[\"tags\"] = articles[\"tags\"]\n",
    "    else:\n",
    "        df[\"tags\"] = None\n",
    "    \n",
    "    df.head(samples_per_source)\n",
    "    dfs.append(df)"
   ]
  },
  {
   "cell_type": "code",
   "execution_count": 17,
   "metadata": {},
   "outputs": [],
   "source": [
    "df = pd.concat(dfs, ignore_index=True)\n",
    "df.index.name = \"id\""
   ]
  },
  {
   "cell_type": "code",
   "execution_count": 13,
   "metadata": {},
   "outputs": [
    {
     "data": {
      "text/plain": [
       "[{'term': 'Perseverance (Mars Rover)',\n",
       "  'scheme': 'http://www.nytimes.com/namespaces/keywords/des',\n",
       "  'label': None},\n",
       " {'term': 'Mars (Planet)',\n",
       "  'scheme': 'http://www.nytimes.com/namespaces/keywords/des',\n",
       "  'label': None},\n",
       " {'term': 'Video Recordings, Downloads and Streaming',\n",
       "  'scheme': 'http://www.nytimes.com/namespaces/keywords/des',\n",
       "  'label': None},\n",
       " {'term': 'National Aeronautics and Space Administration',\n",
       "  'scheme': 'http://www.nytimes.com/namespaces/keywords/nyt_org',\n",
       "  'label': None},\n",
       " {'term': 'Space and Astronomy',\n",
       "  'scheme': 'http://www.nytimes.com/namespaces/keywords/des',\n",
       "  'label': None}]"
      ]
     },
     "execution_count": 13,
     "metadata": {},
     "output_type": "execute_result"
    }
   ],
   "source": [
    "# data cleaning\n",
    "articles[\"tags\"] = articles.tags.map(lambda x: [_[\"term\"] for _ in x] if type(x)==list else None)"
   ]
  }
 ],
 "metadata": {
  "kernelspec": {
   "display_name": "data-science",
   "language": "python",
   "name": "data-science"
  },
  "language_info": {
   "codemirror_mode": {
    "name": "ipython",
    "version": 3
   },
   "file_extension": ".py",
   "mimetype": "text/x-python",
   "name": "python",
   "nbconvert_exporter": "python",
   "pygments_lexer": "ipython3",
   "version": "3.6.10"
  }
 },
 "nbformat": 4,
 "nbformat_minor": 4
}
