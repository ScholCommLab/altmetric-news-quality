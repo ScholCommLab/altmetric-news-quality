{
 "cells": [
  {
   "cell_type": "code",
   "execution_count": 11,
   "metadata": {},
   "outputs": [],
   "source": [
    "from pathlib import Path\n",
    "import twint\n",
    "import nest_asyncio\n",
    "\n",
    "import pandas as pd\n",
    "import matplotlib.pyplot as plt\n",
    "import seaborn as sns\n",
    "\n",
    "import numpy as np"
   ]
  },
  {
   "cell_type": "code",
   "execution_count": 12,
   "metadata": {},
   "outputs": [],
   "source": [
    "# data directory\n",
    "data_dir = Path(\"../data\")\n",
    "collection_dir = data_dir / \"twitter\""
   ]
  },
  {
   "cell_type": "code",
   "execution_count": 23,
   "metadata": {},
   "outputs": [],
   "source": [
    "nest_asyncio.apply()"
   ]
  },
  {
   "cell_type": "code",
   "execution_count": 25,
   "metadata": {},
   "outputs": [
    {
     "name": "stdout",
     "output_type": "stream",
     "text": [
      "[!] No more data! Scraping will stop now.\n",
      "found 0 deleted tweets in this search.\n",
      "[!] No more data! Scraping will stop now.\n",
      "found 0 deleted tweets in this search.\n"
     ]
    }
   ],
   "source": [
    "# config\n",
    "since_date = \"2021-03-01\"\n",
    "\n",
    "for source in [\"PopSci\", \"IFLScience\"]:\n",
    "    c = twint.Config()\n",
    "    c.Username = source\n",
    "    c.Since = since_date\n",
    "\n",
    "    c.Hide_output = True\n",
    "    c.Pandas = True\n",
    "    \n",
    "    # Run\n",
    "    twint.run.Search(c)\n",
    "    \n",
    "    df = twint.storage.panda.Tweets_df\n",
    "    df.to_csv(collection_dir / f\"{source}.csv\")"
   ]
  }
 ],
 "metadata": {
  "kernelspec": {
   "display_name": "altmetric-news",
   "language": "python",
   "name": "altmetric-news"
  },
  "language_info": {
   "codemirror_mode": {
    "name": "ipython",
    "version": 3
   },
   "file_extension": ".py",
   "mimetype": "text/x-python",
   "name": "python",
   "nbconvert_exporter": "python",
   "pygments_lexer": "ipython3",
   "version": "3.8.2"
  }
 },
 "nbformat": 4,
 "nbformat_minor": 4
}
